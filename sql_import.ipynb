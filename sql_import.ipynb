{
 "cells": [
  {
   "cell_type": "code",
   "execution_count": 6,
   "metadata": {},
   "outputs": [
    {
     "name": "stdout",
     "output_type": "stream",
     "text": [
      "Requirement already satisfied: pandas in d:\\chicago\\.venv\\lib\\site-packages (2.2.3)\n",
      "Requirement already satisfied: numpy>=1.26.0 in d:\\chicago\\.venv\\lib\\site-packages (from pandas) (2.2.1)\n",
      "Requirement already satisfied: python-dateutil>=2.8.2 in d:\\chicago\\.venv\\lib\\site-packages (from pandas) (2.9.0.post0)\n",
      "Requirement already satisfied: pytz>=2020.1 in d:\\chicago\\.venv\\lib\\site-packages (from pandas) (2024.2)\n",
      "Requirement already satisfied: tzdata>=2022.7 in d:\\chicago\\.venv\\lib\\site-packages (from pandas) (2024.2)\n",
      "Requirement already satisfied: six>=1.5 in d:\\chicago\\.venv\\lib\\site-packages (from python-dateutil>=2.8.2->pandas) (1.17.0)\n"
     ]
    }
   ],
   "source": [
    "!pip install pandas"
   ]
  },
  {
   "cell_type": "code",
   "execution_count": 7,
   "metadata": {},
   "outputs": [
    {
     "name": "stdout",
     "output_type": "stream",
     "text": [
      "d:\\chicago\\.venv\\Scripts\\python.exe\n"
     ]
    }
   ],
   "source": [
    "import sys\n",
    "print(sys.executable)\n",
    "\n"
   ]
  },
  {
   "cell_type": "code",
   "execution_count": 8,
   "metadata": {},
   "outputs": [],
   "source": [
    "import pandas as pd\n",
    "import mysql.connector\n",
    "from mysql.connector import Error\n",
    "import gc\n",
    "import logging"
   ]
  },
  {
   "cell_type": "code",
   "execution_count": 9,
   "metadata": {},
   "outputs": [
    {
     "name": "stdout",
     "output_type": "stream",
     "text": [
      "<pymysql.connections.Connection object at 0x00000293AAE4D040>\n",
      "<pymysql.cursors.Cursor object at 0x00000293AA907170>\n"
     ]
    }
   ],
   "source": [
    "import pymysql\n",
    "\n",
    "# Establishing the connection\n",
    "connection = pymysql.connect(\n",
    "    host=\"localhost\",\n",
    "    user=\"root\",\n",
    "    password=\"root\"\n",
    ")\n",
    "print(connection)\n",
    "# Creating a cursor object\n",
    "mycursor= connection.cursor()\n",
    "print(mycursor)"
   ]
  },
  {
   "cell_type": "code",
   "execution_count": 14,
   "metadata": {},
   "outputs": [
    {
     "name": "stderr",
     "output_type": "stream",
     "text": [
      "2025-01-16 17:36:20,301 - INFO - Table `chicago` created successfully!\n",
      "2025-01-16 17:36:51,944 - INFO - Inserted 549999 rows.\n",
      "2025-01-16 17:36:52,434 - INFO - Total rows inserted: 549999\n",
      "2025-01-16 17:36:52,437 - INFO - MySQL connection closed.\n"
     ]
    }
   ],
   "source": [
    "# Configure logging\n",
    "logging.basicConfig(level=logging.INFO, format='%(asctime)s - %(levelname)s - %(message)s')\n",
    "\n",
    "def create_table_and_insert(csv_file_path, table_name, host, user, password, database, batch_size=100):\n",
    "    try:\n",
    "        # Connect to MySQL\n",
    "        connection = pymysql.connect(\n",
    "            host=host,\n",
    "            user=user,\n",
    "            password=password,\n",
    "            database=database\n",
    "        )\n",
    "        mycursor = connection.cursor()\n",
    "\n",
    "        # Table structure based on the provided columns\n",
    "        create_table_query = \"\"\"\n",
    "        CREATE TABLE IF NOT EXISTS `chicago` (\n",
    "            `ID` INT,\n",
    "            `Case Number` VARCHAR(50),\n",
    "            `Date` DATETIME,\n",
    "            `Block` VARCHAR(255),\n",
    "            `IUCR` VARCHAR(10),\n",
    "            `Primary Type` VARCHAR(100),\n",
    "            `Description` VARCHAR(255),\n",
    "            `Location Description` VARCHAR(255),\n",
    "            `Arrest` BOOLEAN,\n",
    "            `Domestic` BOOLEAN,\n",
    "            `Beat` INT,\n",
    "            `District` INT,\n",
    "            `FBI Code` VARCHAR(10),\n",
    "            `Year` INT,\n",
    "            `Updated On` DATETIME,\n",
    "            `Latitude` FLOAT,\n",
    "            `Longitude` FLOAT\n",
    "        );\n",
    "        \"\"\"\n",
    "        mycursor.execute(create_table_query)\n",
    "        logging.info(f\"Table `{table_name}` created successfully!\")\n",
    "\n",
    "        # Process CSV in chunks to avoid memory issues\n",
    "        total_rows_inserted = 0\n",
    "        for chunk in pd.read_csv(csv_file_path, chunksize=batch_size):\n",
    "            placeholders = ', '.join(['%s'] * len(chunk.columns))\n",
    "            insert_query = f\"INSERT INTO `{table_name}` VALUES ({placeholders})\"\n",
    "            mycursor.executemany(insert_query, chunk.values.tolist())\n",
    "            connection.commit()\n",
    "            total_rows_inserted += mycursor.rowcount\n",
    "            logging.info(f\"Inserted {mycursor.rowcount} rows.\")\n",
    "\n",
    "            # Clear memory after processing each chunk\n",
    "            del chunk\n",
    "            gc.collect()  # Run garbage collection to free up memory\n",
    "\n",
    "        logging.info(f\"Total rows inserted: {total_rows_inserted}\")\n",
    "        \n",
    "\n",
    "    except Error as e:\n",
    "        logging.error(f\"Error: {e}\")\n",
    "    except Exception as ex:\n",
    "        logging.error(f\"Unexpected error: {ex}\")\n",
    "    finally:\n",
    "        if 'connection' in locals():\n",
    "            connection.close()\n",
    "            logging.info(\"MySQL connection closed.\")\n",
    "\n",
    "# Example Usage\n",
    "create_table_and_insert(\n",
    "    csv_file_path=r\"C:\\Users\\Digital Suppliers\\Downloads\\crime_cleaned.csv\",  # Path to your CSV file\n",
    "    table_name=\"chicago\",                                        # Table name\n",
    "    host=\"localhost\",                                            # MySQL host\n",
    "    user=\"root\",                                                 # MySQL username\n",
    "    password=\"root\",                                    # MySQL password\n",
    "    database=\"crime\",                                            # MySQL database\n",
    "    batch_size=1000000                                              # Number of rows per batch\n",
    ")"
   ]
  }
 ],
 "metadata": {
  "kernelspec": {
   "display_name": ".venv",
   "language": "python",
   "name": "python3"
  },
  "language_info": {
   "codemirror_mode": {
    "name": "ipython",
    "version": 3
   },
   "file_extension": ".py",
   "mimetype": "text/x-python",
   "name": "python",
   "nbconvert_exporter": "python",
   "pygments_lexer": "ipython3",
   "version": "3.12.0"
  }
 },
 "nbformat": 4,
 "nbformat_minor": 2
}
